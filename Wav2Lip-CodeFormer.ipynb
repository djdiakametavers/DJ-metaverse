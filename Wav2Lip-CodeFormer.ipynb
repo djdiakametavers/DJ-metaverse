{
  "cells": [
    {
      "cell_type": "markdown",
      "source": [
        "# 浪子之心科技\n",
        "# 此代码仅为演示wav2lip推理结束后用CodeFormer进行高清化的过程。\n",
        "# 效果比Wav2Lip-GFPGAN好。\n"
      ],
      "metadata": {
        "id": "ncjUdsIYOoXi"
      }
    },
    {
      "cell_type": "code",
      "execution_count": null,
      "metadata": {
        "id": "Qgo-oaI3JU2u",
        "colab": {
          "base_uri": "https://localhost:8080/"
        },
        "outputId": "58c40482-fc19-4761-bf4b-a62ceef60dee"
      },
      "outputs": [
        {
          "output_type": "stream",
          "name": "stdout",
          "text": [
            "Cloning into 'Wav2Lip'...\n",
            "remote: Enumerating objects: 378, done.\u001b[K\n",
            "remote: Total 378 (delta 0), reused 0 (delta 0), pack-reused 378 (from 1)\u001b[K\n",
            "Receiving objects: 100% (378/378), 526.97 KiB | 10.75 MiB/s, done.\n",
            "Resolving deltas: 100% (205/205), done.\n",
            "--2025-07-04 09:20:18--  https://iiitaphyd-my.sharepoint.com/personal/radrabha_m_research_iiit_ac_in/_layouts/15/download.aspx?share=EdjI7bZlgApMqsVoEUUXpLsBxqXbn5z8VTmoxp55YNDcIA\n",
            "Resolving iiitaphyd-my.sharepoint.com (iiitaphyd-my.sharepoint.com)... 52.107.248.6, 52.107.248.25, 52.107.248.21, ...\n",
            "Connecting to iiitaphyd-my.sharepoint.com (iiitaphyd-my.sharepoint.com)|52.107.248.6|:443... connected.\n",
            "HTTP request sent, awaiting response... 404 \n",
            "2025-07-04 09:20:19 ERROR 404: (no description).\n",
            "\n"
          ]
        }
      ],
      "source": [
        "#@title 一、下载wav2lip源码和权重并安装wav2lip环境\n",
        "#@title\n",
        "!rm -rf /content/sample_data\n",
        "!mkdir /content/sample_data\n",
        "\n",
        "!git clone https://github.com/zabique/Wav2Lip\n",
        "\n",
        "#download the pretrained model\n",
        "!wget 'https://iiitaphyd-my.sharepoint.com/personal/radrabha_m_research_iiit_ac_in/_layouts/15/download.aspx?share=EdjI7bZlgApMqsVoEUUXpLsBxqXbn5z8VTmoxp55YNDcIA' -O '/content/Wav2Lip/checkpoints/wav2lip_gan.pth'\n",
        "a = !pip install https://raw.githubusercontent.com/AwaleSajil/ghc/master/ghc-1.0-py3-none-any.whl\n",
        "\n",
        "# !pip uninstall tensorflow tensorflow-gpu\n",
        "!cd Wav2Lip && pip install -r requirements.txt\n",
        "\n",
        "#download pretrained model for face detection\n",
        "!wget \"https://www.adrianbulat.com/downloads/python-fan/s3fd-619a316812.pth\" -O \"/content/Wav2Lip/face_detection/detection/sfd/s3fd.pth\"\n",
        "\n",
        "!pip install -q youtube-dl\n",
        "!pip install ffmpeg-python\n",
        "!pip install librosa==0.9.1\n",
        "\n",
        "#this code for recording audio\n",
        "\"\"\"\n",
        "To write this piece of code I took inspiration/code from a lot of places.\n",
        "It was late night, so I'm not sure how much I created or just copied o.O\n",
        "Here are some of the possible references:\n",
        "https://blog.addpipe.com/recording-audio-in-the-browser-using-pure-html5-and-minimal-javascript/\n",
        "https://stackoverflow.com/a/18650249\n",
        "https://hacks.mozilla.org/2014/06/easy-audio-capture-with-the-mediarecorder-api/\n",
        "https://air.ghost.io/recording-to-an-audio-file-using-html5-and-js/\n",
        "https://stackoverflow.com/a/49019356\n",
        "\"\"\"\n",
        "from IPython.display import HTML, Audio\n",
        "from google.colab.output import eval_js\n",
        "from base64 import b64decode\n",
        "import numpy as np\n",
        "from scipy.io.wavfile import read as wav_read\n",
        "import io\n",
        "import ffmpeg\n",
        "\n",
        "from IPython.display import clear_output\n",
        "clear_output()\n",
        "print(\"\\nDone\")"
      ]
    },
    {
      "cell_type": "code",
      "source": [
        "#@title 二、下载CodeFormer的源码权重并安装依赖\n",
        "\n",
        "# 下载CodeFormer的源码\n",
        "%cd /content\n",
        "!rm -rf CodeFormer\n",
        "!git clone https://github.com/sczhou/CodeFormer.git\n",
        "%cd /content/CodeFormer"
      ],
      "metadata": {
        "id": "rpa5nWB4wdr7"
      },
      "execution_count": null,
      "outputs": []
    },
    {
      "cell_type": "code",
      "source": [
        "# 下载下载CodeFormer的权重\n",
        "%cd /content/CodeFormer\n",
        "!python scripts/download_pretrained_models.py facelib\n",
        "!python scripts/download_pretrained_models.py CodeFormer"
      ],
      "metadata": {
        "id": "CQ-66EwgweAM"
      },
      "execution_count": null,
      "outputs": []
    },
    {
      "cell_type": "code",
      "source": [
        "# 安装CodeFormer的依赖\n",
        "%cd /content/CodeFormer\n",
        "!python basicsr/setup.py develop"
      ],
      "metadata": {
        "id": "cAo8kmNPwd3T"
      },
      "execution_count": null,
      "outputs": []
    },
    {
      "cell_type": "code",
      "execution_count": null,
      "metadata": {
        "id": "vsphzJawLF-f"
      },
      "outputs": [],
      "source": [
        "#@title 三、上传视频和音频\n",
        "# 创建相关的文件夹\n",
        "%cd /content\n",
        "!mkdir output\n",
        "!mkdir input\n",
        "# 上传音视频\n",
        "%cd /content/input\n",
        "from google.colab import files\n",
        "from io import BytesIO\n",
        "uploaded = files.upload()"
      ]
    },
    {
      "cell_type": "code",
      "source": [
        "#@title 四、用wav2lip初步生成修改嘴型后的视频\n",
        "\n",
        "# 先清理之前生成的临时文件\n",
        "%cd /content\n",
        "!rm -rf output\n",
        "!mkdir output\n",
        "!rm -rf /content/Wav2Lip/temp/result.avi\n",
        "!rm -rf /content/Wav2Lip/temp/temp.wav\n",
        "!rm -rf /content/Wav2Lip/results/result_voice.mp4\n",
        "!rm -rf images\n",
        "!mkdir images\n",
        "%cd /content/CodeFormer\n",
        "!rm -rf results\n",
        "!mkdir results"
      ],
      "metadata": {
        "id": "juHcmv6ouFHH"
      },
      "execution_count": null,
      "outputs": []
    },
    {
      "cell_type": "code",
      "execution_count": null,
      "metadata": {
        "id": "jR5utmDMcSZY"
      },
      "outputs": [],
      "source": [
        "# 用wav2lip进行推理\n",
        "# checkpoints 可以用wav2lip.pth 或者wav2lip_gan.pt\n",
        "%cd /content/Wav2Lip\n",
        "!python inference.py --checkpoint_path checkpoints/wav2lip_gan.pth --face '/content/input/1.mp4' --audio '/content/input/1.mp3'"
      ]
    },
    {
      "cell_type": "code",
      "source": [
        "# 将Wav2Lip生成的视频转化成图片保存到images\n",
        "%cd /content\n",
        "!mkdir images\n",
        "%cd /content/Wav2Lip\n",
        "import cv2\n",
        "from tqdm import tqdm\n",
        "from os import path\n",
        "import os\n",
        "\n",
        "vidcap = cv2.VideoCapture(\"/content/Wav2Lip/results/result_voice.mp4\")\n",
        "numberOfFrames = int(vidcap.get(cv2.CAP_PROP_FRAME_COUNT))\n",
        "fps = vidcap.get(cv2.CAP_PROP_FPS)\n",
        "print(\"FPS: \", fps, \"Frames: \", numberOfFrames)\n",
        "\n",
        "for frameNumber in tqdm(range(numberOfFrames)):\n",
        "    _,image = vidcap.read()\n",
        "    cv2.imwrite(path.join('/content/images', str(frameNumber).zfill(4)+'.jpg'), image)"
      ],
      "metadata": {
        "id": "2Ap1pwvjyGjj"
      },
      "execution_count": null,
      "outputs": []
    },
    {
      "cell_type": "code",
      "source": [
        "#@title 五、用CodeFormer进行人脸修复\n",
        "\n",
        "%cd /content/CodeFormer\n",
        "# 定义相关函数\n",
        "import cv2\n",
        "import matplotlib.pyplot as plt\n",
        "def display(img1, img2):\n",
        "  fig = plt.figure(figsize=(25, 10))\n",
        "  ax1 = fig.add_subplot(1, 2, 1)\n",
        "  plt.title('Input', fontsize=16)\n",
        "  ax1.axis('off')\n",
        "  ax2 = fig.add_subplot(1, 2, 2)\n",
        "  plt.title('CodeFormer', fontsize=16)\n",
        "  ax2.axis('off')\n",
        "  ax1.imshow(img1)\n",
        "  ax2.imshow(img2)\n",
        "def imread(img_path):\n",
        "  img = cv2.imread(img_path)\n",
        "  img = cv2.cvtColor(img, cv2.COLOR_BGR2RGB)\n",
        "  return img"
      ],
      "metadata": {
        "id": "Km1SuJc0xRJL"
      },
      "execution_count": null,
      "outputs": []
    },
    {
      "cell_type": "code",
      "source": [
        "# 用CodeFormer进行推理\n",
        "%cd /content/CodeFormer\n",
        "## 只修复人脸\n",
        "# CODEFORMER_FIDELITY = 0.5\n",
        "# !python inference_codeformer.py -w $CODEFORMER_FIDELITY --has_aligned --input_path /content/images\n",
        "\n",
        "# whole images ##整体图片修复\n",
        "CODEFORMER_FIDELITY = 0.7\n",
        "!python inference_codeformer.py -w $CODEFORMER_FIDELITY --input_path /content/images --bg_upsampler realesrgan"
      ],
      "metadata": {
        "id": "t87g87LoxRSq"
      },
      "execution_count": null,
      "outputs": []
    },
    {
      "cell_type": "code",
      "source": [
        "# 生成修复后的新视频\n",
        "import os\n",
        "restoredFramesPath = '/content/CodeFormer/results/images_0.7' + '/final_results/'\n",
        "processedVideoOutputPath = '/content/output'\n",
        "\n",
        "dir_list = os.listdir(restoredFramesPath)\n",
        "dir_list.sort()\n",
        "\n",
        "import cv2\n",
        "import numpy as np\n",
        "\n",
        "batch = 0\n",
        "batchSize = 600\n",
        "from tqdm import tqdm\n",
        "for i in tqdm(range(0, len(dir_list), batchSize)):\n",
        "  img_array = []\n",
        "  start, end = i, i+batchSize\n",
        "  print(\"processing \", start, end)\n",
        "  for filename in  tqdm(dir_list[start:end]):\n",
        "      filename = restoredFramesPath+filename;\n",
        "      img = cv2.imread(filename)\n",
        "      if img is None:\n",
        "        continue\n",
        "      height, width, layers = img.shape\n",
        "      size = (width,height)\n",
        "      img_array.append(img)\n",
        "\n",
        "\n",
        "  out = cv2.VideoWriter(processedVideoOutputPath+'/batch_'+str(batch).zfill(4)+'.avi',cv2.VideoWriter_fourcc(*'DIVX'), 30, size)\n",
        "  batch = batch + 1\n",
        "\n",
        "  for i in range(len(img_array)):\n",
        "    out.write(img_array[i])\n",
        "  out.release()\n",
        "\n",
        "# 音视频合并 Generate audio video\n",
        "audio = ffmpeg.input(f'/content/input/5566.mp3')\n",
        "video = ffmpeg.input(f'/content/output/batch_0000.avi')\n",
        "print(\"合并视音频\")\n",
        "out = ffmpeg.output(video, audio, f'/content/output/final.mp4')\n",
        "out.run()\n",
        "print(\"恭喜您，音视频合并完成，存放在output/final.mp4\")"
      ],
      "metadata": {
        "id": "tfXGjVvlxRVS"
      },
      "execution_count": null,
      "outputs": []
    },
    {
      "cell_type": "code",
      "source": [],
      "metadata": {
        "id": "pcfqxXCbtck-"
      },
      "execution_count": null,
      "outputs": []
    }
  ],
  "metadata": {
    "accelerator": "GPU",
    "colab": {
      "provenance": [],
      "gpuType": "T4",
      "toc_visible": true
    },
    "kernelspec": {
      "display_name": "Python 3",
      "name": "python3"
    },
    "gpuClass": "standard"
  },
  "nbformat": 4,
  "nbformat_minor": 0
}